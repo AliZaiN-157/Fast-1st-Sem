{
 "cells": [
  {
   "cell_type": "markdown",
   "metadata": {},
   "source": [
    "## <center> Applied Physics Lab Activity - 2 </center>"
   ]
  },
  {
   "cell_type": "markdown",
   "metadata": {},
   "source": [
    " **Name**: Ali Zain <br>\n",
    " **Nu-ID**: 21K - 4653 <br>\n",
    " **Sec**: 1 - M <br> "
   ]
  },
  {
   "cell_type": "markdown",
   "metadata": {},
   "source": [
    "#### Q1: Write a Python script to print a dictionary (name: dict1) where the keys are numbers between 1 and 10 (both included) and the values are square of keys."
   ]
  },
  {
   "cell_type": "code",
   "execution_count": 1,
   "metadata": {},
   "outputs": [
    {
     "data": {
      "text/plain": [
       "{1: 1, 2: 4, 3: 9, 4: 16, 5: 25, 6: 36, 7: 49, 8: 64, 9: 81, 10: 100}"
      ]
     },
     "execution_count": 1,
     "metadata": {},
     "output_type": "execute_result"
    }
   ],
   "source": [
    "dict1 = {\n",
    "    i: i*i for i in range(1,11)\n",
    "}\n",
    "dict1"
   ]
  },
  {
   "cell_type": "markdown",
   "metadata": {},
   "source": [
    "#### Q2: Below are the two list convert it into a dictionary (name: dict2).\n",
    "#### Keys = [‘One’, ‘Two’, ‘Three’, ‘Four’, ‘Five’]\n",
    "#### Values = [10, 20, 30, 40, 50 ]"
   ]
  },
  {
   "cell_type": "code",
   "execution_count": 2,
   "metadata": {},
   "outputs": [
    {
     "name": "stdout",
     "output_type": "stream",
     "text": [
      "{'One': 10, 'Two': 20, 'Three': 30, 'Four': 40, 'Five': 50}\n"
     ]
    }
   ],
   "source": [
    "Keys = [\"One\", \"Two\", \"Three\", \"Four\", \"Five\"]\n",
    "Values = [10, 20, 30, 40, 50 ]\n",
    "dict2 = {Keys[i]:Values[i] for i in range(len(Keys))}\n",
    "\n",
    "print(dict2)"
   ]
  },
  {
   "cell_type": "markdown",
   "metadata": {},
   "source": [
    "#### Q3: Merge above two Python dictionaries (dict1 and dict2) into one (name: dict_merg)."
   ]
  },
  {
   "cell_type": "code",
   "execution_count": 5,
   "metadata": {},
   "outputs": [
    {
     "name": "stdout",
     "output_type": "stream",
     "text": [
      "Merged Dictionary =  {1: 1, 2: 4, 3: 9, 4: 16, 5: 25, 6: 36, 7: 49, 8: 64, 9: 81, 10: 100, 'One': 10, 'Two': 20, 'Three': 30, 'Four': 40, 'Five': 50}\n"
     ]
    }
   ],
   "source": [
    "# Method 1\n",
    "\n",
    "dict_merge = {**dict1, **dict2}\n",
    "print(\"Merged Dictionary = \", dict_merge)"
   ]
  },
  {
   "cell_type": "code",
   "execution_count": 4,
   "metadata": {},
   "outputs": [
    {
     "data": {
      "text/plain": [
       "{1: 1,\n",
       " 2: 4,\n",
       " 3: 9,\n",
       " 4: 16,\n",
       " 5: 25,\n",
       " 6: 36,\n",
       " 7: 49,\n",
       " 8: 64,\n",
       " 9: 81,\n",
       " 10: 100,\n",
       " 'One': 10,\n",
       " 'Two': 20,\n",
       " 'Three': 30,\n",
       " 'Four': 40,\n",
       " 'Five': 50}"
      ]
     },
     "execution_count": 4,
     "metadata": {},
     "output_type": "execute_result"
    }
   ],
   "source": [
    "# Method 2\n",
    "\n",
    "dict1 | dict2"
   ]
  },
  {
   "cell_type": "markdown",
   "metadata": {},
   "source": [
    "#### Q4: Considering a dictionary (dict1), write a Python script to check whether a given key (taking as any input) already exists in a dictionary or not (use if/else conditions)."
   ]
  },
  {
   "cell_type": "code",
   "execution_count": 85,
   "metadata": {},
   "outputs": [
    {
     "name": "stdout",
     "output_type": "stream",
     "text": [
      "Enter the key: 4\n",
      "Key Found\n"
     ]
    }
   ],
   "source": [
    "key = int(input(\"Enter the key: \"))\n",
    "\n",
    "if key in dict1.keys():\n",
    "    print(\"Key Found\")\n",
    "else:\n",
    "    print(\"Key Not Found\")"
   ]
  },
  {
   "cell_type": "markdown",
   "metadata": {},
   "source": [
    "#### Q5: Create a new dictionary by extracting the following keys from a given dictionary sample\n",
    "#### Dict = { &quot;name&quot;: &quot;Kelly&quot;, &quot;age&quot;:25, &quot;salary&quot;: 8000, &quot;city&quot;: &quot;New york&quot; }"
   ]
  },
  {
   "cell_type": "code",
   "execution_count": 9,
   "metadata": {},
   "outputs": [],
   "source": [
    "Dict={\n",
    "    \"name\": \"Ali\",\n",
    "    \"age\" : 19,\n",
    "    \"salary\": 20000,\n",
    "    \"city\": \"Toronto\"\n",
    "}"
   ]
  },
  {
   "cell_type": "code",
   "execution_count": 10,
   "metadata": {},
   "outputs": [
    {
     "name": "stdout",
     "output_type": "stream",
     "text": [
      "{'name': 'Ali', 'age': 19}\n"
     ]
    }
   ],
   "source": [
    "Keys = ['name', 'age']\n",
    "\n",
    "new_Dict = {x: Dict[x] for x in Keys}\n",
    "\n",
    "print(new_Dict)"
   ]
  },
  {
   "cell_type": "markdown",
   "metadata": {},
   "source": [
    "#### Q6: Delete set of keys from Python Dictionary and keys To Remove = [&quot;name&quot;, &quot;salary&quot;]"
   ]
  },
  {
   "cell_type": "code",
   "execution_count": 11,
   "metadata": {},
   "outputs": [
    {
     "name": "stdout",
     "output_type": "stream",
     "text": [
      "Ali\n",
      "20000\n",
      "{'age': 19, 'city': 'Toronto'}\n"
     ]
    }
   ],
   "source": [
    "Remove_item = [\"name\",\"salary\"]\n",
    "\n",
    "for rem in Remove_item:\n",
    "    a = Dict.pop(rem)\n",
    "    print(a)\n",
    "    \n",
    "print(Dict)"
   ]
  },
  {
   "cell_type": "markdown",
   "metadata": {},
   "source": [
    "#### Q7: Display the cube of the number up to a given integer."
   ]
  },
  {
   "cell_type": "code",
   "execution_count": 1,
   "metadata": {},
   "outputs": [],
   "source": [
    "def getCube(num):\n",
    "    cube = num ** 3\n",
    "    return cube"
   ]
  },
  {
   "cell_type": "code",
   "execution_count": 119,
   "metadata": {},
   "outputs": [
    {
     "name": "stdout",
     "output_type": "stream",
     "text": [
      "Enter a Number to get it's cube: 2\n"
     ]
    },
    {
     "data": {
      "text/plain": [
       "8"
      ]
     },
     "execution_count": 119,
     "metadata": {},
     "output_type": "execute_result"
    }
   ],
   "source": [
    "cube_of_number = int(input(\"Enter a Number to get it's cube: \"))\n",
    "getCube(cube_of_number)"
   ]
  },
  {
   "cell_type": "code",
   "execution_count": 12,
   "metadata": {},
   "outputs": [
    {
     "name": "stdout",
     "output_type": "stream",
     "text": [
      "Enter a starting number: 1\n",
      "Enter a ending number: 7\n",
      "Cube of 1 is : 1\n",
      "Cube of 2 is : 8\n",
      "Cube of 3 is : 27\n",
      "Cube of 4 is : 64\n",
      "Cube of 5 is : 125\n",
      "Cube of 6 is : 216\n",
      "Cube of 7 is : 343\n"
     ]
    }
   ],
   "source": [
    "starting_num = int(input(\"Enter a starting number: \"))\n",
    "ending_num = int(input(\"Enter a ending number: \"))\n",
    "\n",
    "for num in range(starting_num, ending_num+1):\n",
    "    cube = getCube(num)\n",
    "    print(f\"Cube of {num} is : {cube}\")"
   ]
  },
  {
   "cell_type": "markdown",
   "metadata": {},
   "source": [
    "#### Q8: Display -10 to -1 using for loop."
   ]
  },
  {
   "cell_type": "code",
   "execution_count": 179,
   "metadata": {},
   "outputs": [
    {
     "name": "stdout",
     "output_type": "stream",
     "text": [
      "-10 -9 -8 -7 -6 -5 -4 -3 -2 -1 "
     ]
    }
   ],
   "source": [
    "for i in range(-10,0,1):\n",
    "    print(i, end =\" \")"
   ]
  },
  {
   "cell_type": "markdown",
   "metadata": {},
   "source": [
    "#### Q9: Check if a value 200 exists in a dictionary. sampleDict = {&#39;a&#39;: 100, &#39;b&#39;: 200, &#39;c&#39;: 300}"
   ]
  },
  {
   "cell_type": "code",
   "execution_count": 7,
   "metadata": {},
   "outputs": [
    {
     "data": {
      "text/plain": [
       "True"
      ]
     },
     "execution_count": 7,
     "metadata": {},
     "output_type": "execute_result"
    }
   ],
   "source": [
    "sampleDict = {\n",
    "    'a':100,\n",
    "    'b':200,\n",
    "    'c':300,\n",
    "}\n",
    "\n",
    "200 in sampleDict.values()"
   ]
  },
  {
   "cell_type": "markdown",
   "metadata": {},
   "source": [
    "#### Q10: Print First 10 natural numbers using while loop. Print the following pattern"
   ]
  },
  {
   "cell_type": "code",
   "execution_count": 10,
   "metadata": {},
   "outputs": [
    {
     "name": "stdout",
     "output_type": "stream",
     "text": [
      "1 \n",
      "1 2 \n",
      "1 2 3 \n",
      "1 2 3 4 \n",
      "1 2 3 4 5 \n",
      "1 2 3 4 5 6 \n",
      "1 2 3 4 5 6 7 \n",
      "1 2 3 4 5 6 7 8 \n",
      "1 2 3 4 5 6 7 8 9 \n",
      "1 2 3 4 5 6 7 8 9 10 \n"
     ]
    }
   ],
   "source": [
    "rows = 1\n",
    "col = 1\n",
    "while(rows <= 10):\n",
    "    while(col <= rows):\n",
    "        print(col, end=\" \")\n",
    "        col +=1\n",
    "    print()\n",
    "    col=1\n",
    "    rows +=1"
   ]
  },
  {
   "cell_type": "code",
   "execution_count": null,
   "metadata": {},
   "outputs": [],
   "source": []
  }
 ],
 "metadata": {
  "kernelspec": {
   "display_name": "Python 3",
   "language": "python",
   "name": "python3"
  },
  "language_info": {
   "codemirror_mode": {
    "name": "ipython",
    "version": 3
   },
   "file_extension": ".py",
   "mimetype": "text/x-python",
   "name": "python",
   "nbconvert_exporter": "python",
   "pygments_lexer": "ipython3",
   "version": "3.9.0"
  }
 },
 "nbformat": 4,
 "nbformat_minor": 4
}
