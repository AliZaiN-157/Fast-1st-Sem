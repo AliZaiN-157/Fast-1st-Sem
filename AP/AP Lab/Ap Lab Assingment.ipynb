{
 "cells": [
  {
   "cell_type": "markdown",
   "metadata": {},
   "source": [
    "## <center> Applied Physics Lab Activity - 1 </center>"
   ]
  },
  {
   "cell_type": "markdown",
   "metadata": {},
   "source": [
    " **Name**: Ali Zain <br>\n",
    " **Nu-ID**: 21K - 4653 <br>\n",
    " **Sec**: 1 - M <br> "
   ]
  },
  {
   "cell_type": "markdown",
   "metadata": {},
   "source": [
    "#### 1. Write a Python program to calculate the length of your name."
   ]
  },
  {
   "cell_type": "code",
   "execution_count": 68,
   "metadata": {},
   "outputs": [
    {
     "name": "stdout",
     "output_type": "stream",
     "text": [
      "length of name is: 7\n"
     ]
    }
   ],
   "source": [
    "original_name = \"AliZain\"\n",
    "print(\"length of name is:\",len(original_name))"
   ]
  },
  {
   "cell_type": "markdown",
   "metadata": {},
   "source": [
    "#### 2. Write a Python program to get a string made of the first 2 and the last 2 chars from a given string."
   ]
  },
  {
   "cell_type": "code",
   "execution_count": 69,
   "metadata": {},
   "outputs": [
    {
     "name": "stdout",
     "output_type": "stream",
     "text": [
      "Enter Your Name: Ali Zain\n",
      "The First 2 and Last 2 chars of Ali Zain is Alin\n"
     ]
    }
   ],
   "source": [
    "name = input(\"Enter Your Name: \")\n",
    "a = name[0:2]\n",
    "b = name[-2:]\n",
    "new_name  = a + b\n",
    "print(f\"The First 2 and Last 2 chars of {name} is {new_name}\")"
   ]
  },
  {
   "cell_type": "code",
   "execution_count": 70,
   "metadata": {},
   "outputs": [
    {
     "name": "stdout",
     "output_type": "stream",
     "text": [
      "Swapping First and last 2 chars: ini ZaAl\n"
     ]
    }
   ],
   "source": [
    "swap_name = b + name[2:len(name)-2] + a\n",
    "print(\"Swapping First and last 2 chars:\",swap_name)"
   ]
  },
  {
   "cell_type": "markdown",
   "metadata": {},
   "source": [
    "#### 3. Write a Python program to get a single string from two given strings, separated by a space."
   ]
  },
  {
   "cell_type": "code",
   "execution_count": 77,
   "metadata": {},
   "outputs": [
    {
     "name": "stdout",
     "output_type": "stream",
     "text": [
      "Ali Zain splitted into Ali and Zain\n"
     ]
    }
   ],
   "source": [
    "# Split One string into Two\n",
    "split = name.split()  #.split() will break the string into 2 parts and will store the values inside list.\n",
    "first_name = split[0] \n",
    "last_name = split[1]\n",
    "\n",
    "print(f\"{name} splitted into {first_name} and {last_name}\")"
   ]
  },
  {
   "cell_type": "code",
   "execution_count": 78,
   "metadata": {},
   "outputs": [
    {
     "name": "stdout",
     "output_type": "stream",
     "text": [
      "Ali and Zain Merged into Ali Zain\n"
     ]
    }
   ],
   "source": [
    "# Merging Two string into One\n",
    "\n",
    "full_name = first_name + \" \" +last_name\n",
    "print(f\"{first_name} and {last_name} Merged into {full_name}\")"
   ]
  },
  {
   "cell_type": "markdown",
   "metadata": {},
   "source": [
    "#### 4. Write a Python program to check the characters of your name match with first chars of your father name."
   ]
  },
  {
   "cell_type": "code",
   "execution_count": 72,
   "metadata": {},
   "outputs": [
    {
     "data": {
      "text/plain": [
       "False"
      ]
     },
     "execution_count": 72,
     "metadata": {},
     "output_type": "execute_result"
    }
   ],
   "source": [
    "father_name = \"Sabir Hussain\"\n",
    "father_name[0] == (original_name[0] or original_name[1] or original_name[2] or original_name[3] or original_name[4] or original_name[5] or original_name[6])"
   ]
  },
  {
   "cell_type": "markdown",
   "metadata": {},
   "source": [
    "#### 5. Write a Python program to get a string from a given string where first char have been changes to \"$\"."
   ]
  },
  {
   "cell_type": "code",
   "execution_count": 81,
   "metadata": {},
   "outputs": [
    {
     "name": "stdout",
     "output_type": "stream",
     "text": [
      "Enter your Name: Ali Zain\n",
      "Ali Zain after replacing first character with $ is $li Zain\n"
     ]
    }
   ],
   "source": [
    "replace_name = input(\"Enter your Name: \")\n",
    "replace = replace_name.replace(replace_name[0],'$')\n",
    "print(f\"{replace_name} after replacing first character with $ is {replace}\")"
   ]
  },
  {
   "cell_type": "markdown",
   "metadata": {},
   "source": [
    "#### 6. Write a Python program to reverse a string. "
   ]
  },
  {
   "cell_type": "code",
   "execution_count": 80,
   "metadata": {},
   "outputs": [
    {
     "name": "stdout",
     "output_type": "stream",
     "text": [
      "Enter your Name: Ali Zain\n",
      "Ali Zain after reversing becomes niaZ ilA\n"
     ]
    }
   ],
   "source": [
    "reverse_name = input(\"Enter your Name: \")\n",
    "print(f\"{reverse_name} after reversing becomes {reverse_name[::-1]}\")"
   ]
  },
  {
   "cell_type": "code",
   "execution_count": null,
   "metadata": {},
   "outputs": [],
   "source": []
  },
  {
   "cell_type": "code",
   "execution_count": null,
   "metadata": {},
   "outputs": [],
   "source": []
  }
 ],
 "metadata": {
  "kernelspec": {
   "display_name": "Python 3",
   "language": "python",
   "name": "python3"
  },
  "language_info": {
   "codemirror_mode": {
    "name": "ipython",
    "version": 3
   },
   "file_extension": ".py",
   "mimetype": "text/x-python",
   "name": "python",
   "nbconvert_exporter": "python",
   "pygments_lexer": "ipython3",
   "version": "3.9.0"
  }
 },
 "nbformat": 4,
 "nbformat_minor": 4
}
