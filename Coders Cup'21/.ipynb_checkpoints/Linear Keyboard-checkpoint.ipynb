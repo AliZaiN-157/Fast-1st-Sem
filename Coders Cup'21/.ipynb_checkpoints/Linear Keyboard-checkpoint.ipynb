{
 "cells": [
  {
   "cell_type": "code",
   "execution_count": null,
   "metadata": {},
   "outputs": [
    {
     "name": "stdout",
     "output_type": "stream",
     "text": [
      "Enter Testcases: 1\n",
      "Enter Keyboard: abcdefghijklmno\n",
      "Enter Input: helo\n",
      "i = h j = h\n",
      "8\n",
      "i = e j = e\n",
      "5\n",
      "i = l j = l\n",
      "12\n",
      "i = o j = o\n",
      "15\n",
      "Enter Keyboard: abcdefghiojklmnopqrstuvwxyz\n",
      "Enter Input: i\n",
      "i = i j = i\n",
      "9\n"
     ]
    }
   ],
   "source": [
    "z = 0\n",
    "val = []\n",
    "TestCases = int(input(\"Enter Testcases: \"))\n",
    "\n",
    "while(TestCases > 0):\n",
    "    Keyboard = input(\"Enter Keyboard: \")\n",
    "    Input = input(\"Enter Input: \")\n",
    "\n",
    "    for i in Input:\n",
    "        for j in Keyboard:\n",
    "            z += 1\n",
    "            if(i == j):\n",
    "                print(\"i =\", i, \"j =\", j)\n",
    "                print(z)\n",
    "                val.append(z)\n",
    "                break\n",
    "        z=0\n",
    "    val=[]\n",
    "    TestCases -=1\n",
    "    "
   ]
  },
  {
   "cell_type": "code",
   "execution_count": null,
   "metadata": {},
   "outputs": [],
   "source": []
  }
 ],
 "metadata": {
  "kernelspec": {
   "display_name": "Python 3",
   "language": "python",
   "name": "python3"
  },
  "language_info": {
   "codemirror_mode": {
    "name": "ipython",
    "version": 3
   },
   "file_extension": ".py",
   "mimetype": "text/x-python",
   "name": "python",
   "nbconvert_exporter": "python",
   "pygments_lexer": "ipython3",
   "version": "3.9.0"
  }
 },
 "nbformat": 4,
 "nbformat_minor": 4
}
